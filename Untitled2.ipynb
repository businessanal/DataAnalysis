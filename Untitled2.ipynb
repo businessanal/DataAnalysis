{
 "cells": [
  {
   "cell_type": "code",
   "execution_count": 1,
   "id": "01754da4-9dd7-4c05-be2f-67bfde095c2b",
   "metadata": {
    "tags": []
   },
   "outputs": [],
   "source": [
    "# Install tidymodels if you haven't done so\n",
    "# install.packages(\"rlang\")\n",
    "# install.packages(\"tidymodels\")\n",
    "# install.packages(\"tidyverse\")"
   ]
  },
  {
   "cell_type": "code",
   "execution_count": 2,
   "id": "d0db4cf4-61ee-47eb-853a-01af6c1b9488",
   "metadata": {
    "tags": []
   },
   "outputs": [
    {
     "name": "stderr",
     "output_type": "stream",
     "text": [
      "── Attaching packages ────────────────────────────────────── tidymodels 0.1.0 ──\n",
      "✔ broom     0.5.6      ✔ recipes   0.1.12\n",
      "✔ dials     0.0.6      ✔ rsample   0.0.5 \n",
      "✔ dplyr     0.8.5      ✔ tibble    3.0.1 \n",
      "✔ ggplot2   3.3.0      ✔ tune      0.1.0 \n",
      "✔ infer     0.5.1      ✔ workflows 0.1.1 \n",
      "✔ parsnip   0.1.0      ✔ yardstick 0.0.6 \n",
      "✔ purrr     0.3.4      \n",
      "── Conflicts ───────────────────────────────────────── tidymodels_conflicts() ──\n",
      "✖ purrr::discard()  masks scales::discard()\n",
      "✖ dplyr::filter()   masks stats::filter()\n",
      "✖ dplyr::lag()      masks stats::lag()\n",
      "✖ ggplot2::margin() masks dials::margin()\n",
      "✖ recipes::step()   masks stats::step()\n",
      "── Attaching packages ─────────────────────────────────────── tidyverse 1.3.0 ──\n",
      "✔ readr   1.3.1     ✔ forcats 0.5.0\n",
      "✔ stringr 1.4.0     \n",
      "── Conflicts ────────────────────────────────────────── tidyverse_conflicts() ──\n",
      "✖ readr::col_factor() masks scales::col_factor()\n",
      "✖ purrr::discard()    masks scales::discard()\n",
      "✖ dplyr::filter()     masks stats::filter()\n",
      "✖ stringr::fixed()    masks recipes::fixed()\n",
      "✖ dplyr::lag()        masks stats::lag()\n",
      "✖ ggplot2::margin()   masks dials::margin()\n",
      "✖ readr::spec()       masks yardstick::spec()\n"
     ]
    }
   ],
   "source": [
    "# Library for modeling\n",
    "library(tidymodels)\n",
    "\n",
    "# Load tidyverse\n",
    "library(tidyverse)"
   ]
  },
  {
   "cell_type": "code",
   "execution_count": 3,
   "id": "036b5505-45f0-43c6-9f91-0092298f5116",
   "metadata": {
    "tags": []
   },
   "outputs": [],
   "source": [
    "URL = 'https://dax-cdn.cdn.appdomain.cloud/dax-noaa-weather-data-jfk-airport/1.1.4/noaa-weather-sample-data.tar.gz'"
   ]
  },
  {
   "cell_type": "code",
   "execution_count": 4,
   "id": "2632d7b7-9b18-4b51-b38c-e65f30e7e8ea",
   "metadata": {
    "tags": []
   },
   "outputs": [],
   "source": [
    "download.file(URL, destfile = 'noaa-weather-sample-data.tar.gz')"
   ]
  },
  {
   "cell_type": "code",
   "execution_count": 5,
   "id": "476090f2-1f20-47a8-b0a9-ba74d1df8137",
   "metadata": {
    "tags": []
   },
   "outputs": [
    {
     "name": "stderr",
     "output_type": "stream",
     "text": [
      "Warning message in untar2(tarfile, files, list, exdir, restore_times):\n",
      "“using pax extended headers”"
     ]
    }
   ],
   "source": [
    "untar('noaa-weather-sample-data.tar.gz', tar='internal')"
   ]
  },
  {
   "cell_type": "code",
   "execution_count": 6,
   "id": "eef53840-2021-4d5f-baaf-5b45ea77ac33",
   "metadata": {
    "tags": []
   },
   "outputs": [
    {
     "data": {
      "text/html": [
       "<table>\n",
       "<caption>A data.frame: 6 × 9</caption>\n",
       "<thead>\n",
       "\t<tr><th></th><th scope=col>DATE</th><th scope=col>HOURLYDewPointTempF</th><th scope=col>HOURLYRelativeHumidity</th><th scope=col>HOURLYDRYBULBTEMPF</th><th scope=col>HOURLYWETBULBTEMPF</th><th scope=col>HOURLYPrecip</th><th scope=col>HOURLYWindSpeed</th><th scope=col>HOURLYSeaLevelPressure</th><th scope=col>HOURLYStationPressure</th></tr>\n",
       "\t<tr><th></th><th scope=col>&lt;fct&gt;</th><th scope=col>&lt;fct&gt;</th><th scope=col>&lt;int&gt;</th><th scope=col>&lt;int&gt;</th><th scope=col>&lt;int&gt;</th><th scope=col>&lt;fct&gt;</th><th scope=col>&lt;int&gt;</th><th scope=col>&lt;dbl&gt;</th><th scope=col>&lt;dbl&gt;</th></tr>\n",
       "</thead>\n",
       "<tbody>\n",
       "\t<tr><th scope=row>1</th><td>2015-07-25T13:51:00Z</td><td>60</td><td>46</td><td>83</td><td>68</td><td>0.00</td><td>13</td><td>30.01</td><td>29.99</td></tr>\n",
       "\t<tr><th scope=row>2</th><td>2016-11-18T23:51:00Z</td><td>34</td><td>48</td><td>53</td><td>44</td><td>0.00</td><td> 6</td><td>30.05</td><td>30.03</td></tr>\n",
       "\t<tr><th scope=row>3</th><td>2013-01-06T08:51:00Z</td><td>33</td><td>89</td><td>36</td><td>35</td><td>0.00</td><td>13</td><td>30.14</td><td>30.12</td></tr>\n",
       "\t<tr><th scope=row>4</th><td>2011-01-27T16:51:00Z</td><td>18</td><td>48</td><td>36</td><td>30</td><td>0.00</td><td>14</td><td>29.82</td><td>29.80</td></tr>\n",
       "\t<tr><th scope=row>5</th><td>2015-01-03T12:16:00Z</td><td>27</td><td>61</td><td>39</td><td>34</td><td>T   </td><td>11</td><td>   NA</td><td>30.50</td></tr>\n",
       "\t<tr><th scope=row>6</th><td>2013-02-15T20:51:00Z</td><td>35</td><td>79</td><td>41</td><td>38</td><td>0.00</td><td> 6</td><td>29.94</td><td>29.92</td></tr>\n",
       "</tbody>\n",
       "</table>\n"
      ],
      "text/latex": [
       "A data.frame: 6 × 9\n",
       "\\begin{tabular}{r|lllllllll}\n",
       "  & DATE & HOURLYDewPointTempF & HOURLYRelativeHumidity & HOURLYDRYBULBTEMPF & HOURLYWETBULBTEMPF & HOURLYPrecip & HOURLYWindSpeed & HOURLYSeaLevelPressure & HOURLYStationPressure\\\\\n",
       "  & <fct> & <fct> & <int> & <int> & <int> & <fct> & <int> & <dbl> & <dbl>\\\\\n",
       "\\hline\n",
       "\t1 & 2015-07-25T13:51:00Z & 60 & 46 & 83 & 68 & 0.00 & 13 & 30.01 & 29.99\\\\\n",
       "\t2 & 2016-11-18T23:51:00Z & 34 & 48 & 53 & 44 & 0.00 &  6 & 30.05 & 30.03\\\\\n",
       "\t3 & 2013-01-06T08:51:00Z & 33 & 89 & 36 & 35 & 0.00 & 13 & 30.14 & 30.12\\\\\n",
       "\t4 & 2011-01-27T16:51:00Z & 18 & 48 & 36 & 30 & 0.00 & 14 & 29.82 & 29.80\\\\\n",
       "\t5 & 2015-01-03T12:16:00Z & 27 & 61 & 39 & 34 & T    & 11 &    NA & 30.50\\\\\n",
       "\t6 & 2013-02-15T20:51:00Z & 35 & 79 & 41 & 38 & 0.00 &  6 & 29.94 & 29.92\\\\\n",
       "\\end{tabular}\n"
      ],
      "text/markdown": [
       "\n",
       "A data.frame: 6 × 9\n",
       "\n",
       "| <!--/--> | DATE &lt;fct&gt; | HOURLYDewPointTempF &lt;fct&gt; | HOURLYRelativeHumidity &lt;int&gt; | HOURLYDRYBULBTEMPF &lt;int&gt; | HOURLYWETBULBTEMPF &lt;int&gt; | HOURLYPrecip &lt;fct&gt; | HOURLYWindSpeed &lt;int&gt; | HOURLYSeaLevelPressure &lt;dbl&gt; | HOURLYStationPressure &lt;dbl&gt; |\n",
       "|---|---|---|---|---|---|---|---|---|---|\n",
       "| 1 | 2015-07-25T13:51:00Z | 60 | 46 | 83 | 68 | 0.00 | 13 | 30.01 | 29.99 |\n",
       "| 2 | 2016-11-18T23:51:00Z | 34 | 48 | 53 | 44 | 0.00 |  6 | 30.05 | 30.03 |\n",
       "| 3 | 2013-01-06T08:51:00Z | 33 | 89 | 36 | 35 | 0.00 | 13 | 30.14 | 30.12 |\n",
       "| 4 | 2011-01-27T16:51:00Z | 18 | 48 | 36 | 30 | 0.00 | 14 | 29.82 | 29.80 |\n",
       "| 5 | 2015-01-03T12:16:00Z | 27 | 61 | 39 | 34 | T    | 11 |    NA | 30.50 |\n",
       "| 6 | 2013-02-15T20:51:00Z | 35 | 79 | 41 | 38 | 0.00 |  6 | 29.94 | 29.92 |\n",
       "\n"
      ],
      "text/plain": [
       "  DATE                 HOURLYDewPointTempF HOURLYRelativeHumidity\n",
       "1 2015-07-25T13:51:00Z 60                  46                    \n",
       "2 2016-11-18T23:51:00Z 34                  48                    \n",
       "3 2013-01-06T08:51:00Z 33                  89                    \n",
       "4 2011-01-27T16:51:00Z 18                  48                    \n",
       "5 2015-01-03T12:16:00Z 27                  61                    \n",
       "6 2013-02-15T20:51:00Z 35                  79                    \n",
       "  HOURLYDRYBULBTEMPF HOURLYWETBULBTEMPF HOURLYPrecip HOURLYWindSpeed\n",
       "1 83                 68                 0.00         13             \n",
       "2 53                 44                 0.00          6             \n",
       "3 36                 35                 0.00         13             \n",
       "4 36                 30                 0.00         14             \n",
       "5 39                 34                 T            11             \n",
       "6 41                 38                 0.00          6             \n",
       "  HOURLYSeaLevelPressure HOURLYStationPressure\n",
       "1 30.01                  29.99                \n",
       "2 30.05                  30.03                \n",
       "3 30.14                  30.12                \n",
       "4 29.82                  29.80                \n",
       "5    NA                  30.50                \n",
       "6 29.94                  29.92                "
      ]
     },
     "metadata": {},
     "output_type": "display_data"
    }
   ],
   "source": [
    "df = read.csv(\"noaa-weather-sample-data/jfk_weather_sample.csv\")\n",
    "head(df)"
   ]
  },
  {
   "cell_type": "code",
   "execution_count": 7,
   "id": "024613f7-cee1-4e2f-a3fa-89f23d5dc76b",
   "metadata": {
    "tags": []
   },
   "outputs": [
    {
     "name": "stdout",
     "output_type": "stream",
     "text": [
      "Rows: 5,727\n",
      "Columns: 9\n",
      "$ DATE                   <fct> 2015-07-25T13:51:00Z, 2016-11-18T23:51:00Z, 20…\n",
      "$ HOURLYDewPointTempF    <fct> 60, 34, 33, 18, 27, 35, 4, 14, 51, 71, 76, 19,…\n",
      "$ HOURLYRelativeHumidity <int> 46, 48, 89, 48, 61, 79, 51, 65, 90, 94, 79, 37…\n",
      "$ HOURLYDRYBULBTEMPF     <int> 83, 53, 36, 36, 39, 41, 19, 24, 54, 73, 83, 44…\n",
      "$ HOURLYWETBULBTEMPF     <int> 68, 44, 35, 30, 34, 38, 15, 21, 52, 72, 78, 35…\n",
      "$ HOURLYPrecip           <fct> 0.00, 0.00, 0.00, 0.00, T, 0.00, 0.00, 0.00, 0…\n",
      "$ HOURLYWindSpeed        <int> 13, 6, 13, 14, 11, 6, 0, 11, 11, 5, 21, 7, 17,…\n",
      "$ HOURLYSeaLevelPressure <dbl> 30.01, 30.05, 30.14, 29.82, NA, 29.94, 30.42, …\n",
      "$ HOURLYStationPressure  <dbl> 29.99, 30.03, 30.12, 29.80, 30.50, 29.92, 30.4…\n"
     ]
    }
   ],
   "source": [
    "glimpse(df)"
   ]
  },
  {
   "cell_type": "code",
   "execution_count": 8,
   "id": "3eca62ed-2836-4a54-ba13-26995ec67cde",
   "metadata": {
    "tags": []
   },
   "outputs": [],
   "source": [
    "df1 <- df%>%\n",
    "select(HOURLYRelativeHumidity, HOURLYDRYBULBTEMPF, HOURLYPrecip, HOURLYWindSpeed, HOURLYStationPressure)"
   ]
  },
  {
   "cell_type": "code",
   "execution_count": 9,
   "id": "31cd7428-06bc-4d58-b52d-f7b170b53da2",
   "metadata": {
    "tags": []
   },
   "outputs": [
    {
     "data": {
      "text/html": [
       "<table>\n",
       "<caption>A data.frame: 5 × 5</caption>\n",
       "<thead>\n",
       "\t<tr><th></th><th scope=col>HOURLYRelativeHumidity</th><th scope=col>HOURLYDRYBULBTEMPF</th><th scope=col>HOURLYPrecip</th><th scope=col>HOURLYWindSpeed</th><th scope=col>HOURLYStationPressure</th></tr>\n",
       "\t<tr><th></th><th scope=col>&lt;int&gt;</th><th scope=col>&lt;int&gt;</th><th scope=col>&lt;fct&gt;</th><th scope=col>&lt;int&gt;</th><th scope=col>&lt;dbl&gt;</th></tr>\n",
       "</thead>\n",
       "<tbody>\n",
       "\t<tr><th scope=row>1</th><td>46</td><td>83</td><td>0.00</td><td>13</td><td>29.99</td></tr>\n",
       "\t<tr><th scope=row>2</th><td>48</td><td>53</td><td>0.00</td><td> 6</td><td>30.03</td></tr>\n",
       "\t<tr><th scope=row>3</th><td>89</td><td>36</td><td>0.00</td><td>13</td><td>30.12</td></tr>\n",
       "\t<tr><th scope=row>4</th><td>48</td><td>36</td><td>0.00</td><td>14</td><td>29.80</td></tr>\n",
       "\t<tr><th scope=row>5</th><td>61</td><td>39</td><td>T   </td><td>11</td><td>30.50</td></tr>\n",
       "</tbody>\n",
       "</table>\n"
      ],
      "text/latex": [
       "A data.frame: 5 × 5\n",
       "\\begin{tabular}{r|lllll}\n",
       "  & HOURLYRelativeHumidity & HOURLYDRYBULBTEMPF & HOURLYPrecip & HOURLYWindSpeed & HOURLYStationPressure\\\\\n",
       "  & <int> & <int> & <fct> & <int> & <dbl>\\\\\n",
       "\\hline\n",
       "\t1 & 46 & 83 & 0.00 & 13 & 29.99\\\\\n",
       "\t2 & 48 & 53 & 0.00 &  6 & 30.03\\\\\n",
       "\t3 & 89 & 36 & 0.00 & 13 & 30.12\\\\\n",
       "\t4 & 48 & 36 & 0.00 & 14 & 29.80\\\\\n",
       "\t5 & 61 & 39 & T    & 11 & 30.50\\\\\n",
       "\\end{tabular}\n"
      ],
      "text/markdown": [
       "\n",
       "A data.frame: 5 × 5\n",
       "\n",
       "| <!--/--> | HOURLYRelativeHumidity &lt;int&gt; | HOURLYDRYBULBTEMPF &lt;int&gt; | HOURLYPrecip &lt;fct&gt; | HOURLYWindSpeed &lt;int&gt; | HOURLYStationPressure &lt;dbl&gt; |\n",
       "|---|---|---|---|---|---|\n",
       "| 1 | 46 | 83 | 0.00 | 13 | 29.99 |\n",
       "| 2 | 48 | 53 | 0.00 |  6 | 30.03 |\n",
       "| 3 | 89 | 36 | 0.00 | 13 | 30.12 |\n",
       "| 4 | 48 | 36 | 0.00 | 14 | 29.80 |\n",
       "| 5 | 61 | 39 | T    | 11 | 30.50 |\n",
       "\n"
      ],
      "text/plain": [
       "  HOURLYRelativeHumidity HOURLYDRYBULBTEMPF HOURLYPrecip HOURLYWindSpeed\n",
       "1 46                     83                 0.00         13             \n",
       "2 48                     53                 0.00          6             \n",
       "3 89                     36                 0.00         13             \n",
       "4 48                     36                 0.00         14             \n",
       "5 61                     39                 T            11             \n",
       "  HOURLYStationPressure\n",
       "1 29.99                \n",
       "2 30.03                \n",
       "3 30.12                \n",
       "4 29.80                \n",
       "5 30.50                "
      ]
     },
     "metadata": {},
     "output_type": "display_data"
    }
   ],
   "source": [
    "head(df1, 5)"
   ]
  },
  {
   "cell_type": "code",
   "execution_count": 10,
   "id": "3e48c60a-ef71-49b2-8073-e33244b751e2",
   "metadata": {
    "tags": []
   },
   "outputs": [
    {
     "data": {
      "text/html": [
       "<style>\n",
       ".list-inline {list-style: none; margin:0; padding: 0}\n",
       ".list-inline>li {display: inline-block}\n",
       ".list-inline>li:not(:last-child)::after {content: \"\\00b7\"; padding: 0 .5ex}\n",
       "</style>\n",
       "<ol class=list-inline><li>5727</li><li>5</li></ol>\n"
      ],
      "text/latex": [
       "\\begin{enumerate*}\n",
       "\\item 5727\n",
       "\\item 5\n",
       "\\end{enumerate*}\n"
      ],
      "text/markdown": [
       "1. 5727\n",
       "2. 5\n",
       "\n",
       "\n"
      ],
      "text/plain": [
       "[1] 5727    5"
      ]
     },
     "metadata": {},
     "output_type": "display_data"
    }
   ],
   "source": [
    "dim(df1)"
   ]
  },
  {
   "cell_type": "code",
   "execution_count": 11,
   "id": "5ec4768e-ac12-4c5e-ab1f-49182f8cfbd9",
   "metadata": {
    "tags": []
   },
   "outputs": [
    {
     "name": "stderr",
     "output_type": "stream",
     "text": [
      "Warning message:\n",
      "“dependency ‘lifecycle’ is not available”also installing the dependencies ‘cli’, ‘pillar’, ‘rlang’, ‘tibble’, ‘tidyselect’, ‘vctrs’\n",
      "\n",
      "Warning message in install.packages(\"dplyr\"):\n",
      "“installation of package ‘tibble’ had non-zero exit status”Warning message in install.packages(\"dplyr\"):\n",
      "“installation of package ‘dplyr’ had non-zero exit status”Updating HTML index of packages in '.Library'\n",
      "Making 'packages.html' ... done\n"
     ]
    }
   ],
   "source": [
    "install.packages(\"dplyr\")"
   ]
  },
  {
   "cell_type": "code",
   "execution_count": 12,
   "id": "c2a38231-c383-4457-ba0a-8c0d26893e41",
   "metadata": {
    "tags": []
   },
   "outputs": [],
   "source": [
    "library(dplyr)"
   ]
  },
  {
   "cell_type": "code",
   "execution_count": 13,
   "id": "cbc4af8e-82d0-45f1-9e01-aaecae705c48",
   "metadata": {
    "tags": []
   },
   "outputs": [
    {
     "data": {
      "text/html": [
       "<table>\n",
       "<caption>A data.frame: 10 × 5</caption>\n",
       "<thead>\n",
       "\t<tr><th></th><th scope=col>HOURLYRelativeHumidity</th><th scope=col>HOURLYDRYBULBTEMPF</th><th scope=col>HOURLYPrecip</th><th scope=col>HOURLYWindSpeed</th><th scope=col>HOURLYStationPressure</th></tr>\n",
       "\t<tr><th></th><th scope=col>&lt;int&gt;</th><th scope=col>&lt;int&gt;</th><th scope=col>&lt;chr&gt;</th><th scope=col>&lt;int&gt;</th><th scope=col>&lt;dbl&gt;</th></tr>\n",
       "</thead>\n",
       "<tbody>\n",
       "\t<tr><th scope=row>1</th><td>46</td><td>83</td><td>0.00</td><td>13</td><td>29.99</td></tr>\n",
       "\t<tr><th scope=row>2</th><td>48</td><td>53</td><td>0.00</td><td> 6</td><td>30.03</td></tr>\n",
       "\t<tr><th scope=row>3</th><td>89</td><td>36</td><td>0.00</td><td>13</td><td>30.12</td></tr>\n",
       "\t<tr><th scope=row>4</th><td>48</td><td>36</td><td>0.00</td><td>14</td><td>29.80</td></tr>\n",
       "\t<tr><th scope=row>5</th><td>61</td><td>39</td><td>0.00</td><td>11</td><td>30.50</td></tr>\n",
       "\t<tr><th scope=row>6</th><td>79</td><td>41</td><td>0.00</td><td> 6</td><td>29.92</td></tr>\n",
       "\t<tr><th scope=row>7</th><td>51</td><td>19</td><td>0.00</td><td> 0</td><td>30.40</td></tr>\n",
       "\t<tr><th scope=row>8</th><td>65</td><td>24</td><td>0.00</td><td>11</td><td>30.35</td></tr>\n",
       "\t<tr><th scope=row>9</th><td>90</td><td>54</td><td>0.06</td><td>11</td><td>30.03</td></tr>\n",
       "\t<tr><th scope=row>10</th><td>94</td><td>73</td><td>NA  </td><td> 5</td><td>29.91</td></tr>\n",
       "</tbody>\n",
       "</table>\n"
      ],
      "text/latex": [
       "A data.frame: 10 × 5\n",
       "\\begin{tabular}{r|lllll}\n",
       "  & HOURLYRelativeHumidity & HOURLYDRYBULBTEMPF & HOURLYPrecip & HOURLYWindSpeed & HOURLYStationPressure\\\\\n",
       "  & <int> & <int> & <chr> & <int> & <dbl>\\\\\n",
       "\\hline\n",
       "\t1 & 46 & 83 & 0.00 & 13 & 29.99\\\\\n",
       "\t2 & 48 & 53 & 0.00 &  6 & 30.03\\\\\n",
       "\t3 & 89 & 36 & 0.00 & 13 & 30.12\\\\\n",
       "\t4 & 48 & 36 & 0.00 & 14 & 29.80\\\\\n",
       "\t5 & 61 & 39 & 0.00 & 11 & 30.50\\\\\n",
       "\t6 & 79 & 41 & 0.00 &  6 & 29.92\\\\\n",
       "\t7 & 51 & 19 & 0.00 &  0 & 30.40\\\\\n",
       "\t8 & 65 & 24 & 0.00 & 11 & 30.35\\\\\n",
       "\t9 & 90 & 54 & 0.06 & 11 & 30.03\\\\\n",
       "\t10 & 94 & 73 & NA   &  5 & 29.91\\\\\n",
       "\\end{tabular}\n"
      ],
      "text/markdown": [
       "\n",
       "A data.frame: 10 × 5\n",
       "\n",
       "| <!--/--> | HOURLYRelativeHumidity &lt;int&gt; | HOURLYDRYBULBTEMPF &lt;int&gt; | HOURLYPrecip &lt;chr&gt; | HOURLYWindSpeed &lt;int&gt; | HOURLYStationPressure &lt;dbl&gt; |\n",
       "|---|---|---|---|---|---|\n",
       "| 1 | 46 | 83 | 0.00 | 13 | 29.99 |\n",
       "| 2 | 48 | 53 | 0.00 |  6 | 30.03 |\n",
       "| 3 | 89 | 36 | 0.00 | 13 | 30.12 |\n",
       "| 4 | 48 | 36 | 0.00 | 14 | 29.80 |\n",
       "| 5 | 61 | 39 | 0.00 | 11 | 30.50 |\n",
       "| 6 | 79 | 41 | 0.00 |  6 | 29.92 |\n",
       "| 7 | 51 | 19 | 0.00 |  0 | 30.40 |\n",
       "| 8 | 65 | 24 | 0.00 | 11 | 30.35 |\n",
       "| 9 | 90 | 54 | 0.06 | 11 | 30.03 |\n",
       "| 10 | 94 | 73 | NA   |  5 | 29.91 |\n",
       "\n"
      ],
      "text/plain": [
       "   HOURLYRelativeHumidity HOURLYDRYBULBTEMPF HOURLYPrecip HOURLYWindSpeed\n",
       "1  46                     83                 0.00         13             \n",
       "2  48                     53                 0.00          6             \n",
       "3  89                     36                 0.00         13             \n",
       "4  48                     36                 0.00         14             \n",
       "5  61                     39                 0.00         11             \n",
       "6  79                     41                 0.00          6             \n",
       "7  51                     19                 0.00          0             \n",
       "8  65                     24                 0.00         11             \n",
       "9  90                     54                 0.06         11             \n",
       "10 94                     73                 NA            5             \n",
       "   HOURLYStationPressure\n",
       "1  29.99                \n",
       "2  30.03                \n",
       "3  30.12                \n",
       "4  29.80                \n",
       "5  30.50                \n",
       "6  29.92                \n",
       "7  30.40                \n",
       "8  30.35                \n",
       "9  30.03                \n",
       "10 29.91                "
      ]
     },
     "metadata": {},
     "output_type": "display_data"
    }
   ],
   "source": [
    "df1 <- df1 %>%\n",
    "mutate(HOURLYPrecip = str_replace(HOURLYPrecip, \"T\", \"0.00\"))\n",
    "head(df1, 10)"
   ]
  },
  {
   "cell_type": "code",
   "execution_count": 14,
   "id": "fbdc870d-7cf1-4369-bf7e-a62941418b46",
   "metadata": {
    "tags": []
   },
   "outputs": [],
   "source": [
    "df2 <- df1 %>%\n",
    "mutate(HOURLYPrecip = str_remove(HOURLYPrecip, pattern=\"s$\"))"
   ]
  },
  {
   "cell_type": "code",
   "execution_count": 15,
   "id": "96a540e6-6a19-4d4c-b55f-7200139b8243",
   "metadata": {
    "tags": []
   },
   "outputs": [
    {
     "data": {
      "text/html": [
       "<table>\n",
       "<caption>A data.frame: 10 × 5</caption>\n",
       "<thead>\n",
       "\t<tr><th></th><th scope=col>HOURLYRelativeHumidity</th><th scope=col>HOURLYDRYBULBTEMPF</th><th scope=col>HOURLYPrecip</th><th scope=col>HOURLYWindSpeed</th><th scope=col>HOURLYStationPressure</th></tr>\n",
       "\t<tr><th></th><th scope=col>&lt;int&gt;</th><th scope=col>&lt;int&gt;</th><th scope=col>&lt;chr&gt;</th><th scope=col>&lt;int&gt;</th><th scope=col>&lt;dbl&gt;</th></tr>\n",
       "</thead>\n",
       "<tbody>\n",
       "\t<tr><th scope=row>1</th><td>46</td><td>83</td><td>0.00</td><td>13</td><td>29.99</td></tr>\n",
       "\t<tr><th scope=row>2</th><td>48</td><td>53</td><td>0.00</td><td> 6</td><td>30.03</td></tr>\n",
       "\t<tr><th scope=row>3</th><td>89</td><td>36</td><td>0.00</td><td>13</td><td>30.12</td></tr>\n",
       "\t<tr><th scope=row>4</th><td>48</td><td>36</td><td>0.00</td><td>14</td><td>29.80</td></tr>\n",
       "\t<tr><th scope=row>5</th><td>61</td><td>39</td><td>0.00</td><td>11</td><td>30.50</td></tr>\n",
       "\t<tr><th scope=row>6</th><td>79</td><td>41</td><td>0.00</td><td> 6</td><td>29.92</td></tr>\n",
       "\t<tr><th scope=row>7</th><td>51</td><td>19</td><td>0.00</td><td> 0</td><td>30.40</td></tr>\n",
       "\t<tr><th scope=row>8</th><td>65</td><td>24</td><td>0.00</td><td>11</td><td>30.35</td></tr>\n",
       "\t<tr><th scope=row>9</th><td>90</td><td>54</td><td>0.06</td><td>11</td><td>30.03</td></tr>\n",
       "\t<tr><th scope=row>10</th><td>94</td><td>73</td><td>NA  </td><td> 5</td><td>29.91</td></tr>\n",
       "</tbody>\n",
       "</table>\n"
      ],
      "text/latex": [
       "A data.frame: 10 × 5\n",
       "\\begin{tabular}{r|lllll}\n",
       "  & HOURLYRelativeHumidity & HOURLYDRYBULBTEMPF & HOURLYPrecip & HOURLYWindSpeed & HOURLYStationPressure\\\\\n",
       "  & <int> & <int> & <chr> & <int> & <dbl>\\\\\n",
       "\\hline\n",
       "\t1 & 46 & 83 & 0.00 & 13 & 29.99\\\\\n",
       "\t2 & 48 & 53 & 0.00 &  6 & 30.03\\\\\n",
       "\t3 & 89 & 36 & 0.00 & 13 & 30.12\\\\\n",
       "\t4 & 48 & 36 & 0.00 & 14 & 29.80\\\\\n",
       "\t5 & 61 & 39 & 0.00 & 11 & 30.50\\\\\n",
       "\t6 & 79 & 41 & 0.00 &  6 & 29.92\\\\\n",
       "\t7 & 51 & 19 & 0.00 &  0 & 30.40\\\\\n",
       "\t8 & 65 & 24 & 0.00 & 11 & 30.35\\\\\n",
       "\t9 & 90 & 54 & 0.06 & 11 & 30.03\\\\\n",
       "\t10 & 94 & 73 & NA   &  5 & 29.91\\\\\n",
       "\\end{tabular}\n"
      ],
      "text/markdown": [
       "\n",
       "A data.frame: 10 × 5\n",
       "\n",
       "| <!--/--> | HOURLYRelativeHumidity &lt;int&gt; | HOURLYDRYBULBTEMPF &lt;int&gt; | HOURLYPrecip &lt;chr&gt; | HOURLYWindSpeed &lt;int&gt; | HOURLYStationPressure &lt;dbl&gt; |\n",
       "|---|---|---|---|---|---|\n",
       "| 1 | 46 | 83 | 0.00 | 13 | 29.99 |\n",
       "| 2 | 48 | 53 | 0.00 |  6 | 30.03 |\n",
       "| 3 | 89 | 36 | 0.00 | 13 | 30.12 |\n",
       "| 4 | 48 | 36 | 0.00 | 14 | 29.80 |\n",
       "| 5 | 61 | 39 | 0.00 | 11 | 30.50 |\n",
       "| 6 | 79 | 41 | 0.00 |  6 | 29.92 |\n",
       "| 7 | 51 | 19 | 0.00 |  0 | 30.40 |\n",
       "| 8 | 65 | 24 | 0.00 | 11 | 30.35 |\n",
       "| 9 | 90 | 54 | 0.06 | 11 | 30.03 |\n",
       "| 10 | 94 | 73 | NA   |  5 | 29.91 |\n",
       "\n"
      ],
      "text/plain": [
       "   HOURLYRelativeHumidity HOURLYDRYBULBTEMPF HOURLYPrecip HOURLYWindSpeed\n",
       "1  46                     83                 0.00         13             \n",
       "2  48                     53                 0.00          6             \n",
       "3  89                     36                 0.00         13             \n",
       "4  48                     36                 0.00         14             \n",
       "5  61                     39                 0.00         11             \n",
       "6  79                     41                 0.00          6             \n",
       "7  51                     19                 0.00          0             \n",
       "8  65                     24                 0.00         11             \n",
       "9  90                     54                 0.06         11             \n",
       "10 94                     73                 NA            5             \n",
       "   HOURLYStationPressure\n",
       "1  29.99                \n",
       "2  30.03                \n",
       "3  30.12                \n",
       "4  29.80                \n",
       "5  30.50                \n",
       "6  29.92                \n",
       "7  30.40                \n",
       "8  30.35                \n",
       "9  30.03                \n",
       "10 29.91                "
      ]
     },
     "metadata": {},
     "output_type": "display_data"
    }
   ],
   "source": [
    "head(df2, 10)"
   ]
  },
  {
   "cell_type": "code",
   "execution_count": 16,
   "id": "406af444-1f8c-4ca6-aab3-0058d652c831",
   "metadata": {
    "tags": []
   },
   "outputs": [],
   "source": [
    "df3 <- df2%>%drop_na(HOURLYPrecip)"
   ]
  },
  {
   "cell_type": "code",
   "execution_count": 17,
   "id": "f46e832f-ba43-4abb-bcf8-de5b948e48b6",
   "metadata": {
    "tags": []
   },
   "outputs": [
    {
     "data": {
      "text/html": [
       "<table>\n",
       "<caption>A data.frame: 10 × 5</caption>\n",
       "<thead>\n",
       "\t<tr><th></th><th scope=col>HOURLYRelativeHumidity</th><th scope=col>HOURLYDRYBULBTEMPF</th><th scope=col>HOURLYPrecip</th><th scope=col>HOURLYWindSpeed</th><th scope=col>HOURLYStationPressure</th></tr>\n",
       "\t<tr><th></th><th scope=col>&lt;int&gt;</th><th scope=col>&lt;int&gt;</th><th scope=col>&lt;chr&gt;</th><th scope=col>&lt;int&gt;</th><th scope=col>&lt;dbl&gt;</th></tr>\n",
       "</thead>\n",
       "<tbody>\n",
       "\t<tr><th scope=row>1</th><td>46</td><td>83</td><td>0.00</td><td>13</td><td>29.99</td></tr>\n",
       "\t<tr><th scope=row>2</th><td>48</td><td>53</td><td>0.00</td><td> 6</td><td>30.03</td></tr>\n",
       "\t<tr><th scope=row>3</th><td>89</td><td>36</td><td>0.00</td><td>13</td><td>30.12</td></tr>\n",
       "\t<tr><th scope=row>4</th><td>48</td><td>36</td><td>0.00</td><td>14</td><td>29.80</td></tr>\n",
       "\t<tr><th scope=row>5</th><td>61</td><td>39</td><td>0.00</td><td>11</td><td>30.50</td></tr>\n",
       "\t<tr><th scope=row>6</th><td>79</td><td>41</td><td>0.00</td><td> 6</td><td>29.92</td></tr>\n",
       "\t<tr><th scope=row>7</th><td>51</td><td>19</td><td>0.00</td><td> 0</td><td>30.40</td></tr>\n",
       "\t<tr><th scope=row>8</th><td>65</td><td>24</td><td>0.00</td><td>11</td><td>30.35</td></tr>\n",
       "\t<tr><th scope=row>9</th><td>90</td><td>54</td><td>0.06</td><td>11</td><td>30.03</td></tr>\n",
       "\t<tr><th scope=row>12</th><td>37</td><td>44</td><td>0.00</td><td> 7</td><td>30.25</td></tr>\n",
       "</tbody>\n",
       "</table>\n"
      ],
      "text/latex": [
       "A data.frame: 10 × 5\n",
       "\\begin{tabular}{r|lllll}\n",
       "  & HOURLYRelativeHumidity & HOURLYDRYBULBTEMPF & HOURLYPrecip & HOURLYWindSpeed & HOURLYStationPressure\\\\\n",
       "  & <int> & <int> & <chr> & <int> & <dbl>\\\\\n",
       "\\hline\n",
       "\t1 & 46 & 83 & 0.00 & 13 & 29.99\\\\\n",
       "\t2 & 48 & 53 & 0.00 &  6 & 30.03\\\\\n",
       "\t3 & 89 & 36 & 0.00 & 13 & 30.12\\\\\n",
       "\t4 & 48 & 36 & 0.00 & 14 & 29.80\\\\\n",
       "\t5 & 61 & 39 & 0.00 & 11 & 30.50\\\\\n",
       "\t6 & 79 & 41 & 0.00 &  6 & 29.92\\\\\n",
       "\t7 & 51 & 19 & 0.00 &  0 & 30.40\\\\\n",
       "\t8 & 65 & 24 & 0.00 & 11 & 30.35\\\\\n",
       "\t9 & 90 & 54 & 0.06 & 11 & 30.03\\\\\n",
       "\t12 & 37 & 44 & 0.00 &  7 & 30.25\\\\\n",
       "\\end{tabular}\n"
      ],
      "text/markdown": [
       "\n",
       "A data.frame: 10 × 5\n",
       "\n",
       "| <!--/--> | HOURLYRelativeHumidity &lt;int&gt; | HOURLYDRYBULBTEMPF &lt;int&gt; | HOURLYPrecip &lt;chr&gt; | HOURLYWindSpeed &lt;int&gt; | HOURLYStationPressure &lt;dbl&gt; |\n",
       "|---|---|---|---|---|---|\n",
       "| 1 | 46 | 83 | 0.00 | 13 | 29.99 |\n",
       "| 2 | 48 | 53 | 0.00 |  6 | 30.03 |\n",
       "| 3 | 89 | 36 | 0.00 | 13 | 30.12 |\n",
       "| 4 | 48 | 36 | 0.00 | 14 | 29.80 |\n",
       "| 5 | 61 | 39 | 0.00 | 11 | 30.50 |\n",
       "| 6 | 79 | 41 | 0.00 |  6 | 29.92 |\n",
       "| 7 | 51 | 19 | 0.00 |  0 | 30.40 |\n",
       "| 8 | 65 | 24 | 0.00 | 11 | 30.35 |\n",
       "| 9 | 90 | 54 | 0.06 | 11 | 30.03 |\n",
       "| 12 | 37 | 44 | 0.00 |  7 | 30.25 |\n",
       "\n"
      ],
      "text/plain": [
       "   HOURLYRelativeHumidity HOURLYDRYBULBTEMPF HOURLYPrecip HOURLYWindSpeed\n",
       "1  46                     83                 0.00         13             \n",
       "2  48                     53                 0.00          6             \n",
       "3  89                     36                 0.00         13             \n",
       "4  48                     36                 0.00         14             \n",
       "5  61                     39                 0.00         11             \n",
       "6  79                     41                 0.00          6             \n",
       "7  51                     19                 0.00          0             \n",
       "8  65                     24                 0.00         11             \n",
       "9  90                     54                 0.06         11             \n",
       "12 37                     44                 0.00          7             \n",
       "   HOURLYStationPressure\n",
       "1  29.99                \n",
       "2  30.03                \n",
       "3  30.12                \n",
       "4  29.80                \n",
       "5  30.50                \n",
       "6  29.92                \n",
       "7  30.40                \n",
       "8  30.35                \n",
       "9  30.03                \n",
       "12 30.25                "
      ]
     },
     "metadata": {},
     "output_type": "display_data"
    }
   ],
   "source": [
    "head(df3,10)"
   ]
  },
  {
   "cell_type": "code",
   "execution_count": 18,
   "id": "be36bee7-ae42-4be2-9f1b-a9a0bbf3b703",
   "metadata": {
    "tags": []
   },
   "outputs": [
    {
     "name": "stdout",
     "output_type": "stream",
     "text": [
      "Rows: 4,067\n",
      "Columns: 5\n",
      "$ HOURLYRelativeHumidity <int> 46, 48, 89, 48, 61, 79, 51, 65, 90, 37, 72, 47…\n",
      "$ HOURLYDRYBULBTEMPF     <int> 83, 53, 36, 36, 39, 41, 19, 24, 54, 44, 57, 78…\n",
      "$ HOURLYPrecip           <chr> \"0.00\", \"0.00\", \"0.00\", \"0.00\", \"0.00\", \"0.00\"…\n",
      "$ HOURLYWindSpeed        <int> 13, 6, 13, 14, 11, 6, 0, 11, 11, 7, 17, 8, 3, …\n",
      "$ HOURLYStationPressure  <dbl> 29.99, 30.03, 30.12, 29.80, 30.50, 29.92, 30.4…\n"
     ]
    }
   ],
   "source": [
    "glimpse(df3)"
   ]
  },
  {
   "cell_type": "code",
   "execution_count": 80,
   "id": "0dccbd76-4d02-4a39-8070-0e68fee9db83",
   "metadata": {
    "tags": []
   },
   "outputs": [
    {
     "name": "stdout",
     "output_type": "stream",
     "text": [
      "relative_humidity   dry_bulb_temp_f            precip        wind_speed \n",
      "        \"integer\"         \"integer\"       \"character\"         \"integer\" \n",
      " station_pressure \n",
      "        \"numeric\" \n"
     ]
    }
   ],
   "source": [
    "print(sapply(df3, class))"
   ]
  },
  {
   "cell_type": "code",
   "execution_count": 81,
   "id": "f0ababef-f8b0-4937-b4fe-d5c20acc4b92",
   "metadata": {
    "tags": []
   },
   "outputs": [],
   "source": [
    "df3$precip = as.numeric(as.character(df3$precip))"
   ]
  },
  {
   "cell_type": "code",
   "execution_count": 82,
   "id": "9bd8bda9-b379-4828-90a4-fe75807b2d01",
   "metadata": {
    "tags": []
   },
   "outputs": [
    {
     "name": "stdout",
     "output_type": "stream",
     "text": [
      "relative_humidity   dry_bulb_temp_f            precip        wind_speed \n",
      "        \"integer\"         \"integer\"         \"numeric\"         \"integer\" \n",
      " station_pressure \n",
      "        \"numeric\" \n"
     ]
    }
   ],
   "source": [
    "print(sapply(df3, class))"
   ]
  },
  {
   "cell_type": "code",
   "execution_count": 83,
   "id": "cd81faff-657e-4701-8f91-9435fc60e26a",
   "metadata": {
    "tags": []
   },
   "outputs": [
    {
     "data": {
      "text/html": [
       "<table>\n",
       "<caption>A data.frame: 6 × 5</caption>\n",
       "<thead>\n",
       "\t<tr><th></th><th scope=col>relative_humidity</th><th scope=col>dry_bulb_temp_f</th><th scope=col>precip</th><th scope=col>wind_speed</th><th scope=col>station_pressure</th></tr>\n",
       "\t<tr><th></th><th scope=col>&lt;int&gt;</th><th scope=col>&lt;int&gt;</th><th scope=col>&lt;dbl&gt;</th><th scope=col>&lt;int&gt;</th><th scope=col>&lt;dbl&gt;</th></tr>\n",
       "</thead>\n",
       "<tbody>\n",
       "\t<tr><th scope=row>1</th><td>46</td><td>83</td><td>0</td><td>13</td><td>29.99</td></tr>\n",
       "\t<tr><th scope=row>2</th><td>48</td><td>53</td><td>0</td><td> 6</td><td>30.03</td></tr>\n",
       "\t<tr><th scope=row>3</th><td>89</td><td>36</td><td>0</td><td>13</td><td>30.12</td></tr>\n",
       "\t<tr><th scope=row>4</th><td>48</td><td>36</td><td>0</td><td>14</td><td>29.80</td></tr>\n",
       "\t<tr><th scope=row>5</th><td>61</td><td>39</td><td>0</td><td>11</td><td>30.50</td></tr>\n",
       "\t<tr><th scope=row>6</th><td>79</td><td>41</td><td>0</td><td> 6</td><td>29.92</td></tr>\n",
       "</tbody>\n",
       "</table>\n"
      ],
      "text/latex": [
       "A data.frame: 6 × 5\n",
       "\\begin{tabular}{r|lllll}\n",
       "  & relative\\_humidity & dry\\_bulb\\_temp\\_f & precip & wind\\_speed & station\\_pressure\\\\\n",
       "  & <int> & <int> & <dbl> & <int> & <dbl>\\\\\n",
       "\\hline\n",
       "\t1 & 46 & 83 & 0 & 13 & 29.99\\\\\n",
       "\t2 & 48 & 53 & 0 &  6 & 30.03\\\\\n",
       "\t3 & 89 & 36 & 0 & 13 & 30.12\\\\\n",
       "\t4 & 48 & 36 & 0 & 14 & 29.80\\\\\n",
       "\t5 & 61 & 39 & 0 & 11 & 30.50\\\\\n",
       "\t6 & 79 & 41 & 0 &  6 & 29.92\\\\\n",
       "\\end{tabular}\n"
      ],
      "text/markdown": [
       "\n",
       "A data.frame: 6 × 5\n",
       "\n",
       "| <!--/--> | relative_humidity &lt;int&gt; | dry_bulb_temp_f &lt;int&gt; | precip &lt;dbl&gt; | wind_speed &lt;int&gt; | station_pressure &lt;dbl&gt; |\n",
       "|---|---|---|---|---|---|\n",
       "| 1 | 46 | 83 | 0 | 13 | 29.99 |\n",
       "| 2 | 48 | 53 | 0 |  6 | 30.03 |\n",
       "| 3 | 89 | 36 | 0 | 13 | 30.12 |\n",
       "| 4 | 48 | 36 | 0 | 14 | 29.80 |\n",
       "| 5 | 61 | 39 | 0 | 11 | 30.50 |\n",
       "| 6 | 79 | 41 | 0 |  6 | 29.92 |\n",
       "\n"
      ],
      "text/plain": [
       "  relative_humidity dry_bulb_temp_f precip wind_speed station_pressure\n",
       "1 46                83              0      13         29.99           \n",
       "2 48                53              0       6         30.03           \n",
       "3 89                36              0      13         30.12           \n",
       "4 48                36              0      14         29.80           \n",
       "5 61                39              0      11         30.50           \n",
       "6 79                41              0       6         29.92           "
      ]
     },
     "metadata": {},
     "output_type": "display_data"
    }
   ],
   "source": [
    "head(df3)"
   ]
  },
  {
   "cell_type": "code",
   "execution_count": 23,
   "id": "a5ba3d5f-f6e8-4aaa-94ee-df3f9718a2c2",
   "metadata": {
    "tags": []
   },
   "outputs": [
    {
     "data": {
      "text/html": [
       "<table>\n",
       "<caption>A data.frame: 6 × 5</caption>\n",
       "<thead>\n",
       "\t<tr><th></th><th scope=col>relative_humidity</th><th scope=col>dry_bulb_temp_f</th><th scope=col>precip</th><th scope=col>wind_speed</th><th scope=col>station_pressure</th></tr>\n",
       "\t<tr><th></th><th scope=col>&lt;int&gt;</th><th scope=col>&lt;int&gt;</th><th scope=col>&lt;chr&gt;</th><th scope=col>&lt;int&gt;</th><th scope=col>&lt;dbl&gt;</th></tr>\n",
       "</thead>\n",
       "<tbody>\n",
       "\t<tr><th scope=row>1</th><td>46</td><td>83</td><td>0.00</td><td>13</td><td>29.99</td></tr>\n",
       "\t<tr><th scope=row>2</th><td>48</td><td>53</td><td>0.00</td><td> 6</td><td>30.03</td></tr>\n",
       "\t<tr><th scope=row>3</th><td>89</td><td>36</td><td>0.00</td><td>13</td><td>30.12</td></tr>\n",
       "\t<tr><th scope=row>4</th><td>48</td><td>36</td><td>0.00</td><td>14</td><td>29.80</td></tr>\n",
       "\t<tr><th scope=row>5</th><td>61</td><td>39</td><td>0.00</td><td>11</td><td>30.50</td></tr>\n",
       "\t<tr><th scope=row>6</th><td>79</td><td>41</td><td>0.00</td><td> 6</td><td>29.92</td></tr>\n",
       "</tbody>\n",
       "</table>\n"
      ],
      "text/latex": [
       "A data.frame: 6 × 5\n",
       "\\begin{tabular}{r|lllll}\n",
       "  & relative\\_humidity & dry\\_bulb\\_temp\\_f & precip & wind\\_speed & station\\_pressure\\\\\n",
       "  & <int> & <int> & <chr> & <int> & <dbl>\\\\\n",
       "\\hline\n",
       "\t1 & 46 & 83 & 0.00 & 13 & 29.99\\\\\n",
       "\t2 & 48 & 53 & 0.00 &  6 & 30.03\\\\\n",
       "\t3 & 89 & 36 & 0.00 & 13 & 30.12\\\\\n",
       "\t4 & 48 & 36 & 0.00 & 14 & 29.80\\\\\n",
       "\t5 & 61 & 39 & 0.00 & 11 & 30.50\\\\\n",
       "\t6 & 79 & 41 & 0.00 &  6 & 29.92\\\\\n",
       "\\end{tabular}\n"
      ],
      "text/markdown": [
       "\n",
       "A data.frame: 6 × 5\n",
       "\n",
       "| <!--/--> | relative_humidity &lt;int&gt; | dry_bulb_temp_f &lt;int&gt; | precip &lt;chr&gt; | wind_speed &lt;int&gt; | station_pressure &lt;dbl&gt; |\n",
       "|---|---|---|---|---|---|\n",
       "| 1 | 46 | 83 | 0.00 | 13 | 29.99 |\n",
       "| 2 | 48 | 53 | 0.00 |  6 | 30.03 |\n",
       "| 3 | 89 | 36 | 0.00 | 13 | 30.12 |\n",
       "| 4 | 48 | 36 | 0.00 | 14 | 29.80 |\n",
       "| 5 | 61 | 39 | 0.00 | 11 | 30.50 |\n",
       "| 6 | 79 | 41 | 0.00 |  6 | 29.92 |\n",
       "\n"
      ],
      "text/plain": [
       "  relative_humidity dry_bulb_temp_f precip wind_speed station_pressure\n",
       "1 46                83              0.00   13         29.99           \n",
       "2 48                53              0.00    6         30.03           \n",
       "3 89                36              0.00   13         30.12           \n",
       "4 48                36              0.00   14         29.80           \n",
       "5 61                39              0.00   11         30.50           \n",
       "6 79                41              0.00    6         29.92           "
      ]
     },
     "metadata": {},
     "output_type": "display_data"
    }
   ],
   "source": [
    "colnames(df3) <- c(\"relative_humidity\", \"dry_bulb_temp_f\", \"precip\", \"wind_speed\", \"station_pressure\")\n",
    "head(df3)"
   ]
  },
  {
   "cell_type": "code",
   "execution_count": 86,
   "id": "2e9288ab-ae21-4eaf-921b-c841e7d2816f",
   "metadata": {
    "tags": []
   },
   "outputs": [
    {
     "ename": "ERROR",
     "evalue": "Error in (weather_split) <- initial_split(data = df3, prop = 0.8): could not find function \"(<-\"\n",
     "execution_count": 86,
     "output_type": "error",
     "traceback": [
      "Error in (weather_split) <- initial_split(data = df3, prop = 0.8): could not find function \"(<-\"\nTraceback:\n"
     ]
    }
   ],
   "source": [
    "set.seed(1234)\n",
    "(weather_split)<- initial_split(data = df3,\n",
    "                             prop = 0.8)\n",
    "training_set <- training(weather_split)\n",
    "testing_set <- testing(weather_split)"
   ]
  },
  {
   "cell_type": "code",
   "execution_count": 33,
   "id": "8b2e98ab-f697-4ee0-bd6e-d5286559244e",
   "metadata": {
    "tags": []
   },
   "outputs": [
    {
     "data": {
      "text/plain": [
       "Linear Regression Model Specification (regression)\n",
       "\n",
       "Computational engine: lm \n"
      ]
     },
     "metadata": {},
     "output_type": "display_data"
    }
   ],
   "source": [
    "# Pick linear regression\n",
    "lm_spec <- linear_reg() %>%\n",
    "  # Set engine'\n",
    "  set_engine(engine = \"lm\")\n",
    "\n",
    "# Print the linear function\n",
    "lm_spec"
   ]
  },
  {
   "cell_type": "code",
   "execution_count": 35,
   "id": "dfdfc4d0-cfde-4367-b5fe-cd96a695bc98",
   "metadata": {
    "tags": []
   },
   "outputs": [
    {
     "data": {
      "text/plain": [
       "parsnip model object\n",
       "\n",
       "Fit time:  2ms \n",
       "\n",
       "Call:\n",
       "stats::lm(formula = formula, data = data)\n",
       "\n",
       "Coefficients:\n",
       "      (Intercept)  relative_humidity  \n",
       "       -0.0169874          0.0003449  \n"
      ]
     },
     "metadata": {},
     "output_type": "display_data"
    }
   ],
   "source": [
    "train_fit <- lm_spec%>%\n",
    "fit(precip ~ relative_humidity, data = training_set)\n",
    "train_fit"
   ]
  },
  {
   "cell_type": "code",
   "execution_count": 38,
   "id": "9ae2a05c-8639-45a0-a38f-07a22c5ed040",
   "metadata": {
    "tags": []
   },
   "outputs": [
    {
     "data": {
      "text/plain": [
       "\n",
       "Call:\n",
       "lm(formula = precip ~ relative_humidity, data = df3)\n",
       "\n",
       "Residuals:\n",
       "     Min       1Q   Median       3Q      Max \n",
       "-0.02048 -0.01147 -0.00493  0.00203  1.17116 \n",
       "\n",
       "Coefficients:\n",
       "                    Estimate Std. Error t value Pr(>|t|)    \n",
       "(Intercept)       -2.045e-02  2.221e-03  -9.205   <2e-16 ***\n",
       "relative_humidity  4.093e-04  3.224e-05  12.693   <2e-16 ***\n",
       "---\n",
       "Signif. codes:  0 ‘***’ 0.001 ‘**’ 0.01 ‘*’ 0.05 ‘.’ 0.1 ‘ ’ 1\n",
       "\n",
       "Residual standard error: 0.04089 on 4065 degrees of freedom\n",
       "Multiple R-squared:  0.03812,\tAdjusted R-squared:  0.03789 \n",
       "F-statistic: 161.1 on 1 and 4065 DF,  p-value: < 2.2e-16\n"
      ]
     },
     "metadata": {},
     "output_type": "display_data"
    },
    {
     "name": "stderr",
     "output_type": "stream",
     "text": [
      "`geom_smooth()` using formula 'y ~ x'\n"
     ]
    },
    {
     "data": {},
     "metadata": {},
     "output_type": "display_data"
    },
    {
     "data": {
      "image/png": "[encoded data removed]",
      "text/plain": [
       "plot without title"
      ]
     },
     "metadata": {},
     "output_type": "display_data",
     "source": "R display func"
    }
   ],
   "source": [
    "linear_model <- lm(precip ~ relative_humidity, data=df3)\n",
    "summary(linear_model)\n",
    "ggplot(df3, aes(x = precip, y = relative_humidity))+\n",
    "geom_point()+\n",
    "stat_smooth(method = \"lm\", col = \"red\")"
   ]
  },
  {
   "cell_type": "code",
   "execution_count": 68,
   "id": "b42cc988-5f58-4395-9aba-f8f32af1371f",
   "metadata": {
    "tags": []
   },
   "outputs": [
    {
     "data": {
      "text/plain": [
       "\n",
       "Call:\n",
       "lm(formula = precip ~ dry_bulb_temp_f, data = df3)\n",
       "\n",
       "Residuals:\n",
       "     Min       1Q   Median       3Q      Max \n",
       "-0.00775 -0.00692 -0.00648 -0.00607  1.18311 \n",
       "\n",
       "Coefficients:\n",
       "                 Estimate Std. Error t value Pr(>|t|)  \n",
       "(Intercept)     5.024e-03  2.194e-03   2.289   0.0221 *\n",
       "dry_bulb_temp_f 2.749e-05  3.778e-05   0.728   0.4669  \n",
       "---\n",
       "Signif. codes:  0 ‘***’ 0.001 ‘**’ 0.01 ‘*’ 0.05 ‘.’ 0.1 ‘ ’ 1\n",
       "\n",
       "Residual standard error: 0.04169 on 4065 degrees of freedom\n",
       "Multiple R-squared:  0.0001302,\tAdjusted R-squared:  -0.0001157 \n",
       "F-statistic: 0.5295 on 1 and 4065 DF,  p-value: 0.4669\n"
      ]
     },
     "metadata": {},
     "output_type": "display_data"
    },
    {
     "name": "stderr",
     "output_type": "stream",
     "text": [
      "`geom_smooth()` using formula 'y ~ x'\n"
     ]
    },
    {
     "data": {},
     "metadata": {},
     "output_type": "display_data"
    },
    {
     "data": {
      "image/png": "[encoded data removed]",
      "text/plain": [
       "plot without title"
      ]
     },
     "metadata": {},
     "output_type": "display_data",
     "source": "R display func"
    }
   ],
   "source": [
    "linear_model <- lm(precip ~ dry_bulb_temp_f, data=df3)\n",
    "summary(linear_model)\n",
    "ggplot(df3, aes(x = precip, y = dry_bulb_temp_f))+\n",
    "geom_point()+\n",
    "stat_smooth(method = \"lm\", col = \"red\")"
   ]
  },
  {
   "cell_type": "code",
   "execution_count": 69,
   "id": "6e445136-2b14-44d8-822f-697d9457b7bb",
   "metadata": {
    "tags": []
   },
   "outputs": [
    {
     "data": {
      "text/plain": [
       "\n",
       "Call:\n",
       "lm(formula = precip ~ wind_speed, data = df3)\n",
       "\n",
       "Residuals:\n",
       "     Min       1Q   Median       3Q      Max \n",
       "-0.02765 -0.00797 -0.00538 -0.00382  1.17789 \n",
       "\n",
       "Coefficients:\n",
       "             Estimate Std. Error t value Pr(>|t|)    \n",
       "(Intercept) 0.0007130  0.0013450   0.530    0.596    \n",
       "wind_speed  0.0005180  0.0001045   4.959 7.37e-07 ***\n",
       "---\n",
       "Signif. codes:  0 ‘***’ 0.001 ‘**’ 0.01 ‘*’ 0.05 ‘.’ 0.1 ‘ ’ 1\n",
       "\n",
       "Residual standard error: 0.04157 on 4065 degrees of freedom\n",
       "Multiple R-squared:  0.006014,\tAdjusted R-squared:  0.005769 \n",
       "F-statistic: 24.59 on 1 and 4065 DF,  p-value: 7.366e-07\n"
      ]
     },
     "metadata": {},
     "output_type": "display_data"
    },
    {
     "name": "stderr",
     "output_type": "stream",
     "text": [
      "`geom_smooth()` using formula 'y ~ x'\n"
     ]
    },
    {
     "data": {},
     "metadata": {},
     "output_type": "display_data"
    },
    {
     "data": {
      "image/png": "[encoded data removed]",
      "text/plain": [
       "plot without title"
      ]
     },
     "metadata": {},
     "output_type": "display_data",
     "source": "R display func"
    }
   ],
   "source": [
    "linear_model <- lm(precip ~ wind_speed, data=df3)\n",
    "summary(linear_model)\n",
    "ggplot(df3, aes(x = precip, y = wind_speed))+\n",
    "geom_point()+\n",
    "stat_smooth(method = \"lm\", col = \"red\")"
   ]
  },
  {
   "cell_type": "code",
   "execution_count": 70,
   "id": "bab288b6-0f55-4437-b870-36dbec1f669c",
   "metadata": {
    "tags": []
   },
   "outputs": [
    {
     "data": {
      "text/plain": [
       "\n",
       "Call:\n",
       "lm(formula = precip ~ station_pressure, data = df3)\n",
       "\n",
       "Residuals:\n",
       "     Min       1Q   Median       3Q      Max \n",
       "-0.03709 -0.00925 -0.00575 -0.00153  1.17630 \n",
       "\n",
       "Coefficients:\n",
       "                  Estimate Std. Error t value Pr(>|t|)    \n",
       "(Intercept)       0.708139   0.081398    8.70   <2e-16 ***\n",
       "station_pressure -0.023390   0.002714   -8.62   <2e-16 ***\n",
       "---\n",
       "Signif. codes:  0 ‘***’ 0.001 ‘**’ 0.01 ‘*’ 0.05 ‘.’ 0.1 ‘ ’ 1\n",
       "\n",
       "Residual standard error: 0.04133 on 4061 degrees of freedom\n",
       "  (4 observations deleted due to missingness)\n",
       "Multiple R-squared:  0.01797,\tAdjusted R-squared:  0.01773 \n",
       "F-statistic:  74.3 on 1 and 4061 DF,  p-value: < 2.2e-16\n"
      ]
     },
     "metadata": {},
     "output_type": "display_data"
    },
    {
     "name": "stderr",
     "output_type": "stream",
     "text": [
      "`geom_smooth()` using formula 'y ~ x'\n",
      "Warning message:\n",
      "“Removed 4 rows containing non-finite values (stat_smooth).”Warning message:\n",
      "“Removed 4 rows containing missing values (geom_point).”"
     ]
    },
    {
     "data": {},
     "metadata": {},
     "output_type": "display_data"
    },
    {
     "data": {
      "image/png": "[encoded data removed]",
      "text/plain": [
       "plot without title"
      ]
     },
     "metadata": {},
     "output_type": "display_data",
     "source": "R display func"
    }
   ],
   "source": [
    "linear_model <- lm(precip ~ station_pressure, data=df3)\n",
    "summary(linear_model)\n",
    "ggplot(df3, aes(x = precip, y = station_pressure))+\n",
    "geom_point()+\n",
    "stat_smooth(method = \"lm\", col = \"red\")"
   ]
  },
  {
   "cell_type": "code",
   "execution_count": 64,
   "id": "0e20e1ae-0be3-42e2-80e3-27910863504f",
   "metadata": {
    "tags": []
   },
   "outputs": [
    {
     "data": {
      "text/plain": [
       "$lvl\n",
       "NULL\n",
       "\n",
       "$spec\n",
       "Linear Regression Model Specification (regression)\n",
       "\n",
       "Computational engine: lm \n",
       "\n",
       "Model fit template:\n",
       "stats::lm(formula = missing_arg(), data = missing_arg(), weights = missing_arg())\n",
       "\n",
       "$fit\n",
       "\n",
       "Call:\n",
       "stats::lm(formula = formula, data = data)\n",
       "\n",
       "Coefficients:\n",
       "      (Intercept)  relative_humidity    dry_bulb_temp_f         wind_speed  \n",
       "        1.722e-01          3.795e-04         -9.632e-06          6.560e-04  \n",
       " station_pressure  \n",
       "       -6.609e-03  \n",
       "\n",
       "\n",
       "$preproc\n",
       "$preproc$y_var\n",
       "[1] \"precip\"\n",
       "\n",
       "\n",
       "$elapsed\n",
       "   user  system elapsed \n",
       "  0.003   0.000   0.003 \n"
      ]
     },
     "metadata": {},
     "output_type": "display_data"
    }
   ],
   "source": [
    "train_Fit3 <- lm_spec%>%\n",
    "fit(precip ~ relative_humidity + dry_bulb_temp_f + wind_speed + station_pressure,\n",
    "   data = training_set)\n",
    "head(train_Fit3)"
   ]
  },
  {
   "cell_type": "code",
   "execution_count": 65,
   "id": "e329cdec-a3b7-4a72-b42b-4f1f749ae8c5",
   "metadata": {
    "tags": []
   },
   "outputs": [
    {
     "data": {
      "text/html": [
       "<table>\n",
       "<caption>A tibble: 6 × 2</caption>\n",
       "<thead>\n",
       "\t<tr><th scope=col>.pred</th><th scope=col>truth</th></tr>\n",
       "\t<tr><th scope=col>&lt;dbl&gt;</th><th scope=col>&lt;chr&gt;</th></tr>\n",
       "</thead>\n",
       "<tbody>\n",
       "\t<tr><td>-0.0008657516</td><td>0.00</td></tr>\n",
       "\t<tr><td> 0.0022576282</td><td>0.00</td></tr>\n",
       "\t<tr><td> 0.0005674084</td><td>0.00</td></tr>\n",
       "\t<tr><td> 0.0079320681</td><td>0.00</td></tr>\n",
       "\t<tr><td>-0.0095893397</td><td>0.00</td></tr>\n",
       "\t<tr><td> 0.0145338044</td><td>0.06</td></tr>\n",
       "</tbody>\n",
       "</table>\n"
      ],
      "text/latex": [
       "A tibble: 6 × 2\n",
       "\\begin{tabular}{ll}\n",
       " .pred & truth\\\\\n",
       " <dbl> & <chr>\\\\\n",
       "\\hline\n",
       "\t -0.0008657516 & 0.00\\\\\n",
       "\t  0.0022576282 & 0.00\\\\\n",
       "\t  0.0005674084 & 0.00\\\\\n",
       "\t  0.0079320681 & 0.00\\\\\n",
       "\t -0.0095893397 & 0.00\\\\\n",
       "\t  0.0145338044 & 0.06\\\\\n",
       "\\end{tabular}\n"
      ],
      "text/markdown": [
       "\n",
       "A tibble: 6 × 2\n",
       "\n",
       "| .pred &lt;dbl&gt; | truth &lt;chr&gt; |\n",
       "|---|---|\n",
       "| -0.0008657516 | 0.00 |\n",
       "|  0.0022576282 | 0.00 |\n",
       "|  0.0005674084 | 0.00 |\n",
       "|  0.0079320681 | 0.00 |\n",
       "| -0.0095893397 | 0.00 |\n",
       "|  0.0145338044 | 0.06 |\n",
       "\n"
      ],
      "text/plain": [
       "  .pred         truth\n",
       "1 -0.0008657516 0.00 \n",
       "2  0.0022576282 0.00 \n",
       "3  0.0005674084 0.00 \n",
       "4  0.0079320681 0.00 \n",
       "5 -0.0095893397 0.00 \n",
       "6  0.0145338044 0.06 "
      ]
     },
     "metadata": {},
     "output_type": "display_data"
    }
   ],
   "source": [
    "train_results3 <- train_Fit3 %>%\n",
    "predict(new_data = training_set) %>%\n",
    "mutate(truth = training_set$precip)\n",
    "head(train_results3)"
   ]
  },
  {
   "cell_type": "code",
   "execution_count": 66,
   "id": "0cee4fb8-c15c-4b61-87a6-79f6afc1066b",
   "metadata": {
    "tags": []
   },
   "outputs": [
    {
     "data": {
      "text/html": [
       "<table>\n",
       "<caption>A tibble: 6 × 2</caption>\n",
       "<thead>\n",
       "\t<tr><th scope=col>.pred</th><th scope=col>truth</th></tr>\n",
       "\t<tr><th scope=col>&lt;dbl&gt;</th><th scope=col>&lt;chr&gt;</th></tr>\n",
       "</thead>\n",
       "<tbody>\n",
       "\t<tr><td>-0.004674000</td><td>0.00</td></tr>\n",
       "\t<tr><td> 0.015044824</td><td>0.00</td></tr>\n",
       "\t<tr><td> 0.003221148</td><td>0.00</td></tr>\n",
       "\t<tr><td>-0.004841541</td><td>0.00</td></tr>\n",
       "\t<tr><td> 0.005881681</td><td>0.00</td></tr>\n",
       "\t<tr><td> 0.002307344</td><td>0.00</td></tr>\n",
       "</tbody>\n",
       "</table>\n"
      ],
      "text/latex": [
       "A tibble: 6 × 2\n",
       "\\begin{tabular}{ll}\n",
       " .pred & truth\\\\\n",
       " <dbl> & <chr>\\\\\n",
       "\\hline\n",
       "\t -0.004674000 & 0.00\\\\\n",
       "\t  0.015044824 & 0.00\\\\\n",
       "\t  0.003221148 & 0.00\\\\\n",
       "\t -0.004841541 & 0.00\\\\\n",
       "\t  0.005881681 & 0.00\\\\\n",
       "\t  0.002307344 & 0.00\\\\\n",
       "\\end{tabular}\n"
      ],
      "text/markdown": [
       "\n",
       "A tibble: 6 × 2\n",
       "\n",
       "| .pred &lt;dbl&gt; | truth &lt;chr&gt; |\n",
       "|---|---|\n",
       "| -0.004674000 | 0.00 |\n",
       "|  0.015044824 | 0.00 |\n",
       "|  0.003221148 | 0.00 |\n",
       "| -0.004841541 | 0.00 |\n",
       "|  0.005881681 | 0.00 |\n",
       "|  0.002307344 | 0.00 |\n",
       "\n"
      ],
      "text/plain": [
       "  .pred        truth\n",
       "1 -0.004674000 0.00 \n",
       "2  0.015044824 0.00 \n",
       "3  0.003221148 0.00 \n",
       "4 -0.004841541 0.00 \n",
       "5  0.005881681 0.00 \n",
       "6  0.002307344 0.00 "
      ]
     },
     "metadata": {},
     "output_type": "display_data"
    }
   ],
   "source": [
    "test_results3 <- train_Fit3%>%\n",
    "predict(new_data = testing_set)%>%\n",
    "mutate(truth = testing_set$precip)\n",
    "head(test_results3)"
   ]
  },
  {
   "cell_type": "code",
   "execution_count": 79,
   "id": "76c46813-d303-4286-9a81-3f15c634429b",
   "metadata": {
    "tags": []
   },
   "outputs": [],
   "source": [
    "train_fit4 <- lm_spec%>%\n",
    "fit(precip ~ poly(relative_humidity, 3),\n",
    "   data = training_set)"
   ]
  },
  {
   "cell_type": "code",
   "execution_count": 78,
   "id": "58e4ae99-228c-4856-bf54-684c856dbbcd",
   "metadata": {
    "tags": []
   },
   "outputs": [
    {
     "data": {
      "text/html": [
       "<table>\n",
       "<caption>A tibble: 6 × 2</caption>\n",
       "<thead>\n",
       "\t<tr><th scope=col>.pred</th><th scope=col>truth</th></tr>\n",
       "\t<tr><th scope=col>&lt;dbl&gt;</th><th scope=col>&lt;chr&gt;</th></tr>\n",
       "</thead>\n",
       "<tbody>\n",
       "\t<tr><td>-0.0005898564</td><td>0.00</td></tr>\n",
       "\t<tr><td>-0.0007285481</td><td>0.00</td></tr>\n",
       "\t<tr><td>-0.0004285554</td><td>0.00</td></tr>\n",
       "\t<tr><td> 0.0067493780</td><td>0.00</td></tr>\n",
       "\t<tr><td>-0.0008712443</td><td>0.00</td></tr>\n",
       "\t<tr><td> 0.0174208113</td><td>0.06</td></tr>\n",
       "</tbody>\n",
       "</table>\n"
      ],
      "text/latex": [
       "A tibble: 6 × 2\n",
       "\\begin{tabular}{ll}\n",
       " .pred & truth\\\\\n",
       " <dbl> & <chr>\\\\\n",
       "\\hline\n",
       "\t -0.0005898564 & 0.00\\\\\n",
       "\t -0.0007285481 & 0.00\\\\\n",
       "\t -0.0004285554 & 0.00\\\\\n",
       "\t  0.0067493780 & 0.00\\\\\n",
       "\t -0.0008712443 & 0.00\\\\\n",
       "\t  0.0174208113 & 0.06\\\\\n",
       "\\end{tabular}\n"
      ],
      "text/markdown": [
       "\n",
       "A tibble: 6 × 2\n",
       "\n",
       "| .pred &lt;dbl&gt; | truth &lt;chr&gt; |\n",
       "|---|---|\n",
       "| -0.0005898564 | 0.00 |\n",
       "| -0.0007285481 | 0.00 |\n",
       "| -0.0004285554 | 0.00 |\n",
       "|  0.0067493780 | 0.00 |\n",
       "| -0.0008712443 | 0.00 |\n",
       "|  0.0174208113 | 0.06 |\n",
       "\n"
      ],
      "text/plain": [
       "  .pred         truth\n",
       "1 -0.0005898564 0.00 \n",
       "2 -0.0007285481 0.00 \n",
       "3 -0.0004285554 0.00 \n",
       "4  0.0067493780 0.00 \n",
       "5 -0.0008712443 0.00 \n",
       "6  0.0174208113 0.06 "
      ]
     },
     "metadata": {},
     "output_type": "display_data"
    }
   ],
   "source": [
    "train_results4 <- train_fit4%>%\n",
    "predict(new_data = training_set)%>%\n",
    "mutate(truth = training_set$precip)\n",
    "head(train_results4)"
   ]
  },
  {
   "cell_type": "code",
   "execution_count": 75,
   "id": "a8f97e8e-0c86-44f5-99bf-3783eac42475",
   "metadata": {
    "tags": []
   },
   "outputs": [
    {
     "data": {
      "text/html": [
       "<table>\n",
       "<caption>A tibble: 6 × 2</caption>\n",
       "<thead>\n",
       "\t<tr><th scope=col>.pred</th><th scope=col>truth</th></tr>\n",
       "\t<tr><th scope=col>&lt;dbl&gt;</th><th scope=col>&lt;chr&gt;</th></tr>\n",
       "</thead>\n",
       "<tbody>\n",
       "\t<tr><td>-0.0007285481</td><td>0.00</td></tr>\n",
       "\t<tr><td> 0.0162031106</td><td>0.00</td></tr>\n",
       "\t<tr><td> 0.0003159876</td><td>0.00</td></tr>\n",
       "\t<tr><td>-0.0006628362</td><td>0.00</td></tr>\n",
       "\t<tr><td> 0.0108843992</td><td>0.00</td></tr>\n",
       "\t<tr><td>-0.0008141677</td><td>0.00</td></tr>\n",
       "</tbody>\n",
       "</table>\n"
      ],
      "text/latex": [
       "A tibble: 6 × 2\n",
       "\\begin{tabular}{ll}\n",
       " .pred & truth\\\\\n",
       " <dbl> & <chr>\\\\\n",
       "\\hline\n",
       "\t -0.0007285481 & 0.00\\\\\n",
       "\t  0.0162031106 & 0.00\\\\\n",
       "\t  0.0003159876 & 0.00\\\\\n",
       "\t -0.0006628362 & 0.00\\\\\n",
       "\t  0.0108843992 & 0.00\\\\\n",
       "\t -0.0008141677 & 0.00\\\\\n",
       "\\end{tabular}\n"
      ],
      "text/markdown": [
       "\n",
       "A tibble: 6 × 2\n",
       "\n",
       "| .pred &lt;dbl&gt; | truth &lt;chr&gt; |\n",
       "|---|---|\n",
       "| -0.0007285481 | 0.00 |\n",
       "|  0.0162031106 | 0.00 |\n",
       "|  0.0003159876 | 0.00 |\n",
       "| -0.0006628362 | 0.00 |\n",
       "|  0.0108843992 | 0.00 |\n",
       "| -0.0008141677 | 0.00 |\n",
       "\n"
      ],
      "text/plain": [
       "  .pred         truth\n",
       "1 -0.0007285481 0.00 \n",
       "2  0.0162031106 0.00 \n",
       "3  0.0003159876 0.00 \n",
       "4 -0.0006628362 0.00 \n",
       "5  0.0108843992 0.00 \n",
       "6 -0.0008141677 0.00 "
      ]
     },
     "metadata": {},
     "output_type": "display_data"
    }
   ],
   "source": [
    "test_results4 <- train_fit4%>%\n",
    "predict(new_data = testing_set)%>%\n",
    "mutate(truth = testing_set$precip)\n",
    "head(test_results4)"
   ]
  },
  {
   "cell_type": "code",
   "execution_count": null,
   "id": "f3df8332-3254-4685-9709-29381da8c570",
   "metadata": {},
   "outputs": [],
   "source": []
  }
 ],
 "metadata": {
  "kernelspec": {
   "display_name": "R",
   "language": "R",
   "name": "conda-env-r-r"
  },
  "language_info": {
   "codemirror_mode": "r",
   "file_extension": ".r",
   "mimetype": "text/x-r-source",
   "name": "R",
   "pygments_lexer": "r",
   "version": "3.5.1"
  }
 },
 "nbformat": 4,
 "nbformat_minor": 5
}
